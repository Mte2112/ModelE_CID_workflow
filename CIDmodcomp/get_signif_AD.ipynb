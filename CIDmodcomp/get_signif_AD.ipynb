{
 "cells": [
  {
   "cell_type": "code",
   "execution_count": 1,
   "id": "ca7f0e5a-d8d9-4865-947a-6b54aaeb8bc2",
   "metadata": {},
   "outputs": [],
   "source": [
    "import xarray as xr\n",
    "import numpy as np\n",
    "from scipy import stats\n",
    "import get_Amaps as amap"
   ]
  },
  {
   "cell_type": "markdown",
   "id": "217f4f43-19be-48f2-a9b9-d1681f743687",
   "metadata": {},
   "source": [
    "## Get statistics from default ensemble for the modern period"
   ]
  },
  {
   "cell_type": "code",
   "execution_count": 2,
   "id": "2828d58c-2c56-48ef-9d79-3dfd9cdd0533",
   "metadata": {},
   "outputs": [],
   "source": [
    "# get default 5-member ensemble for tsmin, tsmax, prec\n",
    "prec_modern = xr.open_mfdataset(\"../NINT_ensemble/ij_concat_files/1980-2014_prec_E213f10*F40oQ40_3.nc\", combine=\"nested\", concat_dim=\"ensemble_member\")\n",
    "tsmin_modern = xr.open_mfdataset(\"../NINT_ensemble/ij_concat_files/1980-2014_tsmin_E213f10*F40oQ40_3.nc\", combine=\"nested\", concat_dim=\"ensemble_member\")\n",
    "tsmax_modern = xr.open_mfdataset(\"../NINT_ensemble/ij_concat_files/1980-2014_tsmax_E213f10*F40oQ40_3.nc\", combine=\"nested\", concat_dim=\"ensemble_member\")"
   ]
  },
  {
   "cell_type": "code",
   "execution_count": 3,
   "id": "cb1f8e04-691f-42ec-98d3-e5a9924114d8",
   "metadata": {
    "scrolled": true
   },
   "outputs": [
    {
     "name": "stderr",
     "output_type": "stream",
     "text": [
      "<string>:6: FutureWarning: 'Y' is deprecated and will be removed in a future version. Please use 'YE' instead of 'Y'.\n",
      "<string>:6: FutureWarning: 'Y' is deprecated and will be removed in a future version. Please use 'YE' instead of 'Y'.\n",
      "<string>:6: FutureWarning: 'Y' is deprecated and will be removed in a future version. Please use 'YE' instead of 'Y'.\n",
      "<string>:6: FutureWarning: 'Y' is deprecated and will be removed in a future version. Please use 'YE' instead of 'Y'.\n"
     ]
    }
   ],
   "source": [
    "# calculate r1mm, r10mm, t40C, and fd\n",
    "r1mm_modern = amap.r1mm(prec_modern, \"prec\", 1).mean(\"time\") # saying 1 ensemble member in argument because I do not want the ensemble average. It is actually 5 members\n",
    "r10mm_modern = amap.r10mm(prec_modern, \"prec\", 1).mean(\"time\")\n",
    "t40C_modern = amap.t40C(tsmax_modern, \"tsmax\", 1).mean(\"time\")\n",
    "fd_modern = amap.fd(tsmin_modern, \"tsmin\", 1).mean(\"time\")"
   ]
  },
  {
   "cell_type": "code",
   "execution_count": 4,
   "id": "826d582e-1c0d-4db1-9022-8d64578c8f2c",
   "metadata": {},
   "outputs": [],
   "source": [
    "# get standard deviations\n",
    "r1mm_modern_std = r1mm_modern.std(dim=\"ensemble_member\")\n",
    "r10mm_modern_std = r10mm_modern.std(dim=\"ensemble_member\")\n",
    "t40C_modern_std = t40C_modern.std(dim=\"ensemble_member\")\n",
    "fd_modern_std = fd_modern.std(dim=\"ensemble_member\")"
   ]
  },
  {
   "cell_type": "code",
   "execution_count": 20,
   "id": "7e5689be-56bb-4470-a9f5-6ad0c72e43dc",
   "metadata": {},
   "outputs": [],
   "source": [
    "# retrieve default ensemble means for A maps\n",
    "r1mm_modern_mean = xr.open_dataset(\"processed_ens/r1mm_ensavg_modern_1A.nc\")\n",
    "r10mm_modern_mean = xr.open_dataset(\"processed_ens/r10mm_ensavg_modern_1A.nc\")\n",
    "t40C_modern_mean = xr.open_dataset(\"processed_ens/t40C_ensavg_modern_1A.nc\")\n",
    "fd_modern_mean = xr.open_dataset(\"processed_ens/fd_ensavg_modern_1A.nc\")"
   ]
  },
  {
   "cell_type": "markdown",
   "id": "04bc5661-5691-45bb-baff-8942e1904358",
   "metadata": {},
   "source": [
    "## Get statistics from default ensemble for the modern-preindustrial change"
   ]
  },
  {
   "cell_type": "code",
   "execution_count": 21,
   "id": "92005f16-d4e2-4ce1-b78c-f56b282ef9b1",
   "metadata": {},
   "outputs": [],
   "source": [
    "# get default 5-member ensemble for tsmin, tsmax, prec\n",
    "prec_pi = xr.open_mfdataset(\"../NINT_ensemble/ij_concat_files/1850-1900_prec_E213f10*F40oQ40_3.nc\", combine=\"nested\", concat_dim=\"ensemble_member\").sel(time=slice(\"1851\", \"1900\"))\n",
    "tsmin_pi = xr.open_mfdataset(\"../NINT_ensemble/ij_concat_files/1850-1900_tsmin_E213f10*F40oQ40_3.nc\", combine=\"nested\", concat_dim=\"ensemble_member\").sel(time=slice(\"1851\", \"1900\"))\n",
    "tsmax_pi = xr.open_mfdataset(\"../NINT_ensemble/ij_concat_files/1850-1900_tsmax_E213f10*F40oQ40_3.nc\", combine=\"nested\", concat_dim=\"ensemble_member\").sel(time=slice(\"1851\", \"1900\"))"
   ]
  },
  {
   "cell_type": "code",
   "execution_count": 22,
   "id": "f502700d-0421-4ef7-9d21-1af52d250401",
   "metadata": {},
   "outputs": [
    {
     "name": "stderr",
     "output_type": "stream",
     "text": [
      "<string>:6: FutureWarning: 'Y' is deprecated and will be removed in a future version. Please use 'YE' instead of 'Y'.\n",
      "<string>:6: FutureWarning: 'Y' is deprecated and will be removed in a future version. Please use 'YE' instead of 'Y'.\n",
      "/home/mypcpls/anaconda3/envs/geo/lib/python3.12/site-packages/xarray/core/indexing.py:1621: PerformanceWarning: Slicing is producing a large chunk. To accept the large\n",
      "chunk and silence this warning, set the option\n",
      "    >>> with dask.config.set(**{'array.slicing.split_large_chunks': False}):\n",
      "    ...     array[indexer]\n",
      "\n",
      "To avoid creating the large chunks, set the option\n",
      "    >>> with dask.config.set(**{'array.slicing.split_large_chunks': True}):\n",
      "    ...     array[indexer]\n",
      "  return self.array[key]\n",
      "<string>:6: FutureWarning: 'Y' is deprecated and will be removed in a future version. Please use 'YE' instead of 'Y'.\n",
      "/home/mypcpls/anaconda3/envs/geo/lib/python3.12/site-packages/xarray/core/indexing.py:1621: PerformanceWarning: Slicing is producing a large chunk. To accept the large\n",
      "chunk and silence this warning, set the option\n",
      "    >>> with dask.config.set(**{'array.slicing.split_large_chunks': False}):\n",
      "    ...     array[indexer]\n",
      "\n",
      "To avoid creating the large chunks, set the option\n",
      "    >>> with dask.config.set(**{'array.slicing.split_large_chunks': True}):\n",
      "    ...     array[indexer]\n",
      "  return self.array[key]\n",
      "<string>:6: FutureWarning: 'Y' is deprecated and will be removed in a future version. Please use 'YE' instead of 'Y'.\n"
     ]
    }
   ],
   "source": [
    "# calculate r1mm, r10mm, t40C, and fd\n",
    "r1mm_pi = amap.r1mm(prec_pi, \"prec\", 1).mean(\"time\") # saying 1 ensemble member in argument because I do not want the ensemble average. It is actually 5 members\n",
    "r10mm_pi = amap.r10mm(prec_pi, \"prec\", 1).mean(\"time\")\n",
    "t40C_pi = amap.t40C(tsmax_pi, \"tsmax\", 1).mean(\"time\")\n",
    "fd_pi = amap.fd(tsmin_pi, \"tsmin\", 1).mean(\"time\")"
   ]
  },
  {
   "cell_type": "code",
   "execution_count": 23,
   "id": "0e6a68e1-b1d9-4534-942b-3a5e2f017442",
   "metadata": {},
   "outputs": [],
   "source": [
    "# get modern preindustrial changes\n",
    "r1mm_mpc = r1mm_modern - r1mm_pi\n",
    "r10mm_mpc = r10mm_modern - r10mm_pi\n",
    "t40C_mpc = t40C_modern - t40C_pi\n",
    "fd_mpc = fd_modern - fd_pi"
   ]
  },
  {
   "cell_type": "code",
   "execution_count": 24,
   "id": "00b49f17-f9e4-4d87-a4eb-a3e2e62bb3ef",
   "metadata": {},
   "outputs": [],
   "source": [
    "# get standard deviations\n",
    "r1mm_mpc_std = r1mm_mpc.std(dim=\"ensemble_member\")\n",
    "r10mm_mpc_std = r10mm_mpc.std(dim=\"ensemble_member\")\n",
    "t40C_mpc_std = t40C_mpc.std(dim=\"ensemble_member\")\n",
    "fd_mpc_std = fd_mpc.std(dim=\"ensemble_member\")"
   ]
  },
  {
   "cell_type": "code",
   "execution_count": 25,
   "id": "b16566c2-41e5-4014-9955-023b0b43f640",
   "metadata": {},
   "outputs": [],
   "source": [
    "# retrieve default ensemble mean mpchange maps\n",
    "r1mm_mpc_mean = xr.open_dataset(\"processed_ens/r1mm_1D.nc\")\n",
    "r10mm_mpc_mean = xr.open_dataset(\"processed_ens/r10mm_1D.nc\")\n",
    "t40C_mpc_mean = xr.open_dataset(\"processed_ens/t40C_1D.nc\")\n",
    "fd_mpc_mean = xr.open_dataset(\"processed_ens/fd_1D.nc\")"
   ]
  },
  {
   "cell_type": "markdown",
   "id": "2468ff00-f006-4be7-85a1-ef053544b226",
   "metadata": {},
   "source": [
    "# Significance tests"
   ]
  },
  {
   "cell_type": "code",
   "execution_count": 26,
   "id": "c0df9339-2e42-4880-987f-353a83a3b3e4",
   "metadata": {},
   "outputs": [],
   "source": [
    "def calculate_p_values(t_stat, df=4): # df=4 because 5 + n - 2, where 5 is default ensemble members and n is model ensemble members (1) \n",
    "    return 2 * (1 - stats.t.cdf(np.abs(t_stat), df=df))\n",
    "\n",
    "def perform_t_test(mean_default, std_default, ds2, varname, n=1, alpha=0.05):\n",
    "    \"\"\"\n",
    "    two-tailed t-test for each grid cell comparing model (ds2) to the ensemble mean of default.\n",
    "\n",
    "    Parameters:\n",
    "    - mean_default: default (E2.1-G NINT) ensemble average\n",
    "    - std_default: default ensemble standard deviation\n",
    "    - ds2: model to compare with default\n",
    "    - n: Number of members in ds2 (1)\n",
    "    - alpha: Significance level for the test (default is 0.05).\n",
    "\n",
    "    Returns:\n",
    "    - p_values_da: DataArray of p-values for each grid cell.\n",
    "    - significant_cells_da: DataArray indicating significant cells (True/False).\n",
    "    \"\"\"\n",
    "    \n",
    "    # calculate the t-statistic\n",
    "    n=1\n",
    "    alpha=0.05\n",
    "    t_stat = (mean_default - ds2) / (std_default / np.sqrt(5)) # 5 is number of ensemble members in default\n",
    "    # calculate the p-value for each grid cell\n",
    "    p_values = xr.apply_ufunc(\n",
    "        calculate_p_values,\n",
    "        t_stat,\n",
    "        vectorize=True,\n",
    "        dask='allowed',  # use dask if t_stat is a dask array\n",
    "    )\n",
    "    \n",
    "    # create a boolean T/F for significant cells (p < alpha)\n",
    "    significant_cells = p_values < alpha\n",
    "    # convert p_values and significant_cells to data arrays with coordinates\n",
    "    p_values = p_values.rename({varname: \"pval\"})\n",
    "\n",
    "    return p_values, significant_cells # return two datasets, one with p value and another with boolean mask for significance"
   ]
  },
  {
   "cell_type": "markdown",
   "id": "648705fb-e324-4a90-8003-15be21f2e773",
   "metadata": {},
   "source": [
    "## Modern period differences - significance test "
   ]
  },
  {
   "cell_type": "code",
   "execution_count": 27,
   "id": "34f561ed-21a9-434d-b6bb-d6b60d66df2a",
   "metadata": {},
   "outputs": [
    {
     "name": "stderr",
     "output_type": "stream",
     "text": [
      "/home/mypcpls/anaconda3/envs/geo/lib/python3.12/site-packages/dask/core.py:127: RuntimeWarning: divide by zero encountered in divide\n",
      "  return func(*(_execute_task(a, cache) for a in args))\n",
      "/home/mypcpls/anaconda3/envs/geo/lib/python3.12/site-packages/dask/core.py:127: RuntimeWarning: invalid value encountered in divide\n",
      "  return func(*(_execute_task(a, cache) for a in args))\n",
      "/home/mypcpls/anaconda3/envs/geo/lib/python3.12/site-packages/dask/core.py:127: RuntimeWarning: divide by zero encountered in divide\n",
      "  return func(*(_execute_task(a, cache) for a in args))\n",
      "/home/mypcpls/anaconda3/envs/geo/lib/python3.12/site-packages/dask/core.py:127: RuntimeWarning: invalid value encountered in divide\n",
      "  return func(*(_execute_task(a, cache) for a in args))\n",
      "/home/mypcpls/anaconda3/envs/geo/lib/python3.12/site-packages/dask/core.py:127: RuntimeWarning: divide by zero encountered in divide\n",
      "  return func(*(_execute_task(a, cache) for a in args))\n",
      "/home/mypcpls/anaconda3/envs/geo/lib/python3.12/site-packages/dask/core.py:127: RuntimeWarning: invalid value encountered in divide\n",
      "  return func(*(_execute_task(a, cache) for a in args))\n",
      "/home/mypcpls/anaconda3/envs/geo/lib/python3.12/site-packages/dask/core.py:127: RuntimeWarning: divide by zero encountered in divide\n",
      "  return func(*(_execute_task(a, cache) for a in args))\n",
      "/home/mypcpls/anaconda3/envs/geo/lib/python3.12/site-packages/dask/core.py:127: RuntimeWarning: invalid value encountered in divide\n",
      "  return func(*(_execute_task(a, cache) for a in args))\n",
      "/home/mypcpls/anaconda3/envs/geo/lib/python3.12/site-packages/dask/core.py:127: RuntimeWarning: divide by zero encountered in divide\n",
      "  return func(*(_execute_task(a, cache) for a in args))\n",
      "/home/mypcpls/anaconda3/envs/geo/lib/python3.12/site-packages/dask/core.py:127: RuntimeWarning: invalid value encountered in divide\n",
      "  return func(*(_execute_task(a, cache) for a in args))\n",
      "/home/mypcpls/anaconda3/envs/geo/lib/python3.12/site-packages/dask/core.py:127: RuntimeWarning: divide by zero encountered in divide\n",
      "  return func(*(_execute_task(a, cache) for a in args))\n",
      "/home/mypcpls/anaconda3/envs/geo/lib/python3.12/site-packages/dask/core.py:127: RuntimeWarning: invalid value encountered in divide\n",
      "  return func(*(_execute_task(a, cache) for a in args))\n",
      "/home/mypcpls/anaconda3/envs/geo/lib/python3.12/site-packages/dask/core.py:127: RuntimeWarning: divide by zero encountered in divide\n",
      "  return func(*(_execute_task(a, cache) for a in args))\n",
      "/home/mypcpls/anaconda3/envs/geo/lib/python3.12/site-packages/dask/core.py:127: RuntimeWarning: invalid value encountered in divide\n",
      "  return func(*(_execute_task(a, cache) for a in args))\n",
      "/home/mypcpls/anaconda3/envs/geo/lib/python3.12/site-packages/dask/core.py:127: RuntimeWarning: divide by zero encountered in divide\n",
      "  return func(*(_execute_task(a, cache) for a in args))\n",
      "/home/mypcpls/anaconda3/envs/geo/lib/python3.12/site-packages/dask/core.py:127: RuntimeWarning: invalid value encountered in divide\n",
      "  return func(*(_execute_task(a, cache) for a in args))\n",
      "/home/mypcpls/anaconda3/envs/geo/lib/python3.12/site-packages/dask/core.py:127: RuntimeWarning: divide by zero encountered in divide\n",
      "  return func(*(_execute_task(a, cache) for a in args))\n",
      "/home/mypcpls/anaconda3/envs/geo/lib/python3.12/site-packages/dask/core.py:127: RuntimeWarning: invalid value encountered in divide\n",
      "  return func(*(_execute_task(a, cache) for a in args))\n",
      "/home/mypcpls/anaconda3/envs/geo/lib/python3.12/site-packages/dask/core.py:127: RuntimeWarning: divide by zero encountered in divide\n",
      "  return func(*(_execute_task(a, cache) for a in args))\n",
      "/home/mypcpls/anaconda3/envs/geo/lib/python3.12/site-packages/dask/core.py:127: RuntimeWarning: invalid value encountered in divide\n",
      "  return func(*(_execute_task(a, cache) for a in args))\n",
      "/home/mypcpls/anaconda3/envs/geo/lib/python3.12/site-packages/dask/core.py:127: RuntimeWarning: divide by zero encountered in divide\n",
      "  return func(*(_execute_task(a, cache) for a in args))\n",
      "/home/mypcpls/anaconda3/envs/geo/lib/python3.12/site-packages/dask/core.py:127: RuntimeWarning: invalid value encountered in divide\n",
      "  return func(*(_execute_task(a, cache) for a in args))\n",
      "/home/mypcpls/anaconda3/envs/geo/lib/python3.12/site-packages/dask/core.py:127: RuntimeWarning: divide by zero encountered in divide\n",
      "  return func(*(_execute_task(a, cache) for a in args))\n",
      "/home/mypcpls/anaconda3/envs/geo/lib/python3.12/site-packages/dask/core.py:127: RuntimeWarning: invalid value encountered in divide\n",
      "  return func(*(_execute_task(a, cache) for a in args))\n",
      "/home/mypcpls/anaconda3/envs/geo/lib/python3.12/site-packages/dask/core.py:127: RuntimeWarning: divide by zero encountered in divide\n",
      "  return func(*(_execute_task(a, cache) for a in args))\n",
      "/home/mypcpls/anaconda3/envs/geo/lib/python3.12/site-packages/dask/core.py:127: RuntimeWarning: invalid value encountered in divide\n",
      "  return func(*(_execute_task(a, cache) for a in args))\n",
      "/home/mypcpls/anaconda3/envs/geo/lib/python3.12/site-packages/dask/core.py:127: RuntimeWarning: divide by zero encountered in divide\n",
      "  return func(*(_execute_task(a, cache) for a in args))\n",
      "/home/mypcpls/anaconda3/envs/geo/lib/python3.12/site-packages/dask/core.py:127: RuntimeWarning: invalid value encountered in divide\n",
      "  return func(*(_execute_task(a, cache) for a in args))\n",
      "/home/mypcpls/anaconda3/envs/geo/lib/python3.12/site-packages/dask/core.py:127: RuntimeWarning: divide by zero encountered in divide\n",
      "  return func(*(_execute_task(a, cache) for a in args))\n",
      "/home/mypcpls/anaconda3/envs/geo/lib/python3.12/site-packages/dask/core.py:127: RuntimeWarning: invalid value encountered in divide\n",
      "  return func(*(_execute_task(a, cache) for a in args))\n",
      "/home/mypcpls/anaconda3/envs/geo/lib/python3.12/site-packages/dask/core.py:127: RuntimeWarning: divide by zero encountered in divide\n",
      "  return func(*(_execute_task(a, cache) for a in args))\n",
      "/home/mypcpls/anaconda3/envs/geo/lib/python3.12/site-packages/dask/core.py:127: RuntimeWarning: invalid value encountered in divide\n",
      "  return func(*(_execute_task(a, cache) for a in args))\n",
      "/home/mypcpls/anaconda3/envs/geo/lib/python3.12/site-packages/dask/core.py:127: RuntimeWarning: divide by zero encountered in divide\n",
      "  return func(*(_execute_task(a, cache) for a in args))\n",
      "/home/mypcpls/anaconda3/envs/geo/lib/python3.12/site-packages/dask/core.py:127: RuntimeWarning: invalid value encountered in divide\n",
      "  return func(*(_execute_task(a, cache) for a in args))\n",
      "/home/mypcpls/anaconda3/envs/geo/lib/python3.12/site-packages/dask/core.py:127: RuntimeWarning: divide by zero encountered in divide\n",
      "  return func(*(_execute_task(a, cache) for a in args))\n",
      "/home/mypcpls/anaconda3/envs/geo/lib/python3.12/site-packages/dask/core.py:127: RuntimeWarning: invalid value encountered in divide\n",
      "  return func(*(_execute_task(a, cache) for a in args))\n",
      "/home/mypcpls/anaconda3/envs/geo/lib/python3.12/site-packages/dask/core.py:127: RuntimeWarning: divide by zero encountered in divide\n",
      "  return func(*(_execute_task(a, cache) for a in args))\n",
      "/home/mypcpls/anaconda3/envs/geo/lib/python3.12/site-packages/dask/core.py:127: RuntimeWarning: invalid value encountered in divide\n",
      "  return func(*(_execute_task(a, cache) for a in args))\n",
      "/home/mypcpls/anaconda3/envs/geo/lib/python3.12/site-packages/dask/core.py:127: RuntimeWarning: divide by zero encountered in divide\n",
      "  return func(*(_execute_task(a, cache) for a in args))\n",
      "/home/mypcpls/anaconda3/envs/geo/lib/python3.12/site-packages/dask/core.py:127: RuntimeWarning: invalid value encountered in divide\n",
      "  return func(*(_execute_task(a, cache) for a in args))\n",
      "/home/mypcpls/anaconda3/envs/geo/lib/python3.12/site-packages/dask/core.py:127: RuntimeWarning: divide by zero encountered in divide\n",
      "  return func(*(_execute_task(a, cache) for a in args))\n",
      "/home/mypcpls/anaconda3/envs/geo/lib/python3.12/site-packages/dask/core.py:127: RuntimeWarning: invalid value encountered in divide\n",
      "  return func(*(_execute_task(a, cache) for a in args))\n"
     ]
    }
   ],
   "source": [
    "# significance maps A\n",
    "for cid in [\"R10mm\", \"R1mm\", \"T40C\", \"fd\"]:\n",
    "    cid_lower = \"t40C\" if cid == \"T40C\" else cid.lower()\n",
    "    if (cid == \"R10mm\") | (cid == \"R1mm\"):\n",
    "        folder = \"WetAndDry\"\n",
    "    else:\n",
    "        folder = \"HeatAndCold\"\n",
    "    for mid in [2, 3, 4, 5, 6, 8, 10]:\n",
    "        dsA = xr.open_dataset(f\"data4maps/{folder}/{cid}/{cid_lower}_{mid}A.nc\")\n",
    "        default_ens_mean = f\"{cid_lower}_modern_mean\"\n",
    "        default_ens_std = f\"{cid_lower}_modern_std\"\n",
    "        p_values, significant_cells = perform_t_test(locals()[default_ens_mean], locals()[default_ens_std], dsA, cid_lower, 1, 0.05)\n",
    "        signif_ds = xr.merge([p_values, significant_cells])\n",
    "        dsA_signif = dsA.where(signif_ds)\n",
    "        signif_ds.to_netcdf(f\"statsignif_maps/{cid_lower}_pvals_{mid}A.nc\")\n",
    "        dsA_signif.to_netcdf(f\"statsignif_maps/{cid_lower}_significant_{mid}A.nc\")"
   ]
  },
  {
   "cell_type": "markdown",
   "id": "f228e7cb-d745-47a1-b90d-db3036363743",
   "metadata": {},
   "source": [
    "## Modern-preindustrial control differences - significance test "
   ]
  },
  {
   "cell_type": "code",
   "execution_count": 28,
   "id": "3999b364-747b-40c5-bb84-1c658cfc9ca4",
   "metadata": {},
   "outputs": [
    {
     "name": "stderr",
     "output_type": "stream",
     "text": [
      "/home/mypcpls/anaconda3/envs/geo/lib/python3.12/site-packages/dask/core.py:127: RuntimeWarning: divide by zero encountered in divide\n",
      "  return func(*(_execute_task(a, cache) for a in args))\n",
      "/home/mypcpls/anaconda3/envs/geo/lib/python3.12/site-packages/dask/core.py:127: RuntimeWarning: invalid value encountered in divide\n",
      "  return func(*(_execute_task(a, cache) for a in args))\n",
      "/home/mypcpls/anaconda3/envs/geo/lib/python3.12/site-packages/dask/core.py:127: RuntimeWarning: divide by zero encountered in divide\n",
      "  return func(*(_execute_task(a, cache) for a in args))\n",
      "/home/mypcpls/anaconda3/envs/geo/lib/python3.12/site-packages/dask/core.py:127: RuntimeWarning: invalid value encountered in divide\n",
      "  return func(*(_execute_task(a, cache) for a in args))\n",
      "/home/mypcpls/anaconda3/envs/geo/lib/python3.12/site-packages/dask/core.py:127: RuntimeWarning: divide by zero encountered in divide\n",
      "  return func(*(_execute_task(a, cache) for a in args))\n",
      "/home/mypcpls/anaconda3/envs/geo/lib/python3.12/site-packages/dask/core.py:127: RuntimeWarning: invalid value encountered in divide\n",
      "  return func(*(_execute_task(a, cache) for a in args))\n",
      "/home/mypcpls/anaconda3/envs/geo/lib/python3.12/site-packages/dask/core.py:127: RuntimeWarning: invalid value encountered in divide\n",
      "  return func(*(_execute_task(a, cache) for a in args))\n",
      "/home/mypcpls/anaconda3/envs/geo/lib/python3.12/site-packages/dask/core.py:127: RuntimeWarning: divide by zero encountered in divide\n",
      "  return func(*(_execute_task(a, cache) for a in args))\n",
      "/home/mypcpls/anaconda3/envs/geo/lib/python3.12/site-packages/dask/core.py:127: RuntimeWarning: invalid value encountered in divide\n",
      "  return func(*(_execute_task(a, cache) for a in args))\n",
      "/home/mypcpls/anaconda3/envs/geo/lib/python3.12/site-packages/dask/core.py:127: RuntimeWarning: divide by zero encountered in divide\n",
      "  return func(*(_execute_task(a, cache) for a in args))\n",
      "/home/mypcpls/anaconda3/envs/geo/lib/python3.12/site-packages/dask/core.py:127: RuntimeWarning: invalid value encountered in divide\n",
      "  return func(*(_execute_task(a, cache) for a in args))\n",
      "/home/mypcpls/anaconda3/envs/geo/lib/python3.12/site-packages/dask/core.py:127: RuntimeWarning: divide by zero encountered in divide\n",
      "  return func(*(_execute_task(a, cache) for a in args))\n",
      "/home/mypcpls/anaconda3/envs/geo/lib/python3.12/site-packages/dask/core.py:127: RuntimeWarning: invalid value encountered in divide\n",
      "  return func(*(_execute_task(a, cache) for a in args))\n",
      "/home/mypcpls/anaconda3/envs/geo/lib/python3.12/site-packages/dask/core.py:127: RuntimeWarning: divide by zero encountered in divide\n",
      "  return func(*(_execute_task(a, cache) for a in args))\n",
      "/home/mypcpls/anaconda3/envs/geo/lib/python3.12/site-packages/dask/core.py:127: RuntimeWarning: invalid value encountered in divide\n",
      "  return func(*(_execute_task(a, cache) for a in args))\n",
      "/home/mypcpls/anaconda3/envs/geo/lib/python3.12/site-packages/dask/core.py:127: RuntimeWarning: divide by zero encountered in divide\n",
      "  return func(*(_execute_task(a, cache) for a in args))\n",
      "/home/mypcpls/anaconda3/envs/geo/lib/python3.12/site-packages/dask/core.py:127: RuntimeWarning: invalid value encountered in divide\n",
      "  return func(*(_execute_task(a, cache) for a in args))\n",
      "/home/mypcpls/anaconda3/envs/geo/lib/python3.12/site-packages/dask/core.py:127: RuntimeWarning: divide by zero encountered in divide\n",
      "  return func(*(_execute_task(a, cache) for a in args))\n",
      "/home/mypcpls/anaconda3/envs/geo/lib/python3.12/site-packages/dask/core.py:127: RuntimeWarning: invalid value encountered in divide\n",
      "  return func(*(_execute_task(a, cache) for a in args))\n",
      "/home/mypcpls/anaconda3/envs/geo/lib/python3.12/site-packages/dask/core.py:127: RuntimeWarning: divide by zero encountered in divide\n",
      "  return func(*(_execute_task(a, cache) for a in args))\n",
      "/home/mypcpls/anaconda3/envs/geo/lib/python3.12/site-packages/dask/core.py:127: RuntimeWarning: invalid value encountered in divide\n",
      "  return func(*(_execute_task(a, cache) for a in args))\n",
      "/home/mypcpls/anaconda3/envs/geo/lib/python3.12/site-packages/dask/core.py:127: RuntimeWarning: divide by zero encountered in divide\n",
      "  return func(*(_execute_task(a, cache) for a in args))\n",
      "/home/mypcpls/anaconda3/envs/geo/lib/python3.12/site-packages/dask/core.py:127: RuntimeWarning: invalid value encountered in divide\n",
      "  return func(*(_execute_task(a, cache) for a in args))\n",
      "/home/mypcpls/anaconda3/envs/geo/lib/python3.12/site-packages/dask/core.py:127: RuntimeWarning: divide by zero encountered in divide\n",
      "  return func(*(_execute_task(a, cache) for a in args))\n",
      "/home/mypcpls/anaconda3/envs/geo/lib/python3.12/site-packages/dask/core.py:127: RuntimeWarning: invalid value encountered in divide\n",
      "  return func(*(_execute_task(a, cache) for a in args))\n",
      "/home/mypcpls/anaconda3/envs/geo/lib/python3.12/site-packages/dask/core.py:127: RuntimeWarning: divide by zero encountered in divide\n",
      "  return func(*(_execute_task(a, cache) for a in args))\n",
      "/home/mypcpls/anaconda3/envs/geo/lib/python3.12/site-packages/dask/core.py:127: RuntimeWarning: invalid value encountered in divide\n",
      "  return func(*(_execute_task(a, cache) for a in args))\n",
      "/home/mypcpls/anaconda3/envs/geo/lib/python3.12/site-packages/dask/core.py:127: RuntimeWarning: divide by zero encountered in divide\n",
      "  return func(*(_execute_task(a, cache) for a in args))\n",
      "/home/mypcpls/anaconda3/envs/geo/lib/python3.12/site-packages/dask/core.py:127: RuntimeWarning: invalid value encountered in divide\n",
      "  return func(*(_execute_task(a, cache) for a in args))\n",
      "/home/mypcpls/anaconda3/envs/geo/lib/python3.12/site-packages/dask/core.py:127: RuntimeWarning: divide by zero encountered in divide\n",
      "  return func(*(_execute_task(a, cache) for a in args))\n",
      "/home/mypcpls/anaconda3/envs/geo/lib/python3.12/site-packages/dask/core.py:127: RuntimeWarning: invalid value encountered in divide\n",
      "  return func(*(_execute_task(a, cache) for a in args))\n",
      "/home/mypcpls/anaconda3/envs/geo/lib/python3.12/site-packages/dask/core.py:127: RuntimeWarning: divide by zero encountered in divide\n",
      "  return func(*(_execute_task(a, cache) for a in args))\n",
      "/home/mypcpls/anaconda3/envs/geo/lib/python3.12/site-packages/dask/core.py:127: RuntimeWarning: invalid value encountered in divide\n",
      "  return func(*(_execute_task(a, cache) for a in args))\n",
      "/home/mypcpls/anaconda3/envs/geo/lib/python3.12/site-packages/dask/core.py:127: RuntimeWarning: divide by zero encountered in divide\n",
      "  return func(*(_execute_task(a, cache) for a in args))\n",
      "/home/mypcpls/anaconda3/envs/geo/lib/python3.12/site-packages/dask/core.py:127: RuntimeWarning: invalid value encountered in divide\n",
      "  return func(*(_execute_task(a, cache) for a in args))\n",
      "/home/mypcpls/anaconda3/envs/geo/lib/python3.12/site-packages/dask/core.py:127: RuntimeWarning: divide by zero encountered in divide\n",
      "  return func(*(_execute_task(a, cache) for a in args))\n",
      "/home/mypcpls/anaconda3/envs/geo/lib/python3.12/site-packages/dask/core.py:127: RuntimeWarning: invalid value encountered in divide\n",
      "  return func(*(_execute_task(a, cache) for a in args))\n",
      "/home/mypcpls/anaconda3/envs/geo/lib/python3.12/site-packages/dask/core.py:127: RuntimeWarning: divide by zero encountered in divide\n",
      "  return func(*(_execute_task(a, cache) for a in args))\n",
      "/home/mypcpls/anaconda3/envs/geo/lib/python3.12/site-packages/dask/core.py:127: RuntimeWarning: invalid value encountered in divide\n",
      "  return func(*(_execute_task(a, cache) for a in args))\n",
      "/home/mypcpls/anaconda3/envs/geo/lib/python3.12/site-packages/dask/core.py:127: RuntimeWarning: divide by zero encountered in divide\n",
      "  return func(*(_execute_task(a, cache) for a in args))\n",
      "/home/mypcpls/anaconda3/envs/geo/lib/python3.12/site-packages/dask/core.py:127: RuntimeWarning: invalid value encountered in divide\n",
      "  return func(*(_execute_task(a, cache) for a in args))\n"
     ]
    }
   ],
   "source": [
    "# significance maps E\n",
    "for cid in [\"R10mm\", \"R1mm\", \"T40C\", \"fd\"]:\n",
    "    cid_lower = \"t40C\" if cid == \"T40C\" else cid.lower()\n",
    "    if (cid == \"R10mm\") | (cid == \"R1mm\"):\n",
    "        folder = \"WetAndDry\"\n",
    "    else:\n",
    "        folder = \"HeatAndCold\"\n",
    "    for mid in [2, 3, 4, 5, 6, 8, 10]:\n",
    "        dsD = xr.open_dataset(f\"data4maps/{folder}/{cid}/{cid_lower}_{mid}D.nc\")\n",
    "        default_ens_mean = f\"{cid_lower}_mpc_mean\"\n",
    "        default_ens_std = f\"{cid_lower}_mpc_std\"\n",
    "        p_values, significant_cells = perform_t_test(locals()[default_ens_mean], locals()[default_ens_std], dsD, cid_lower, 1, 0.05)\n",
    "        signif_ds = xr.merge([p_values, significant_cells])\n",
    "        dsD_signif = dsD.where(signif_ds)\n",
    "        signif_ds.to_netcdf(f\"statsignif_maps/{cid_lower}_pvals_{mid}D.nc\")\n",
    "        dsD_signif.to_netcdf(f\"statsignif_maps/{cid_lower}_significant_{mid}D.nc\")"
   ]
  }
 ],
 "metadata": {
  "kernelspec": {
   "display_name": "Python 3 (ipykernel)",
   "language": "python",
   "name": "python3"
  },
  "language_info": {
   "codemirror_mode": {
    "name": "ipython",
    "version": 3
   },
   "file_extension": ".py",
   "mimetype": "text/x-python",
   "name": "python",
   "nbconvert_exporter": "python",
   "pygments_lexer": "ipython3",
   "version": "3.12.3"
  }
 },
 "nbformat": 4,
 "nbformat_minor": 5
}
