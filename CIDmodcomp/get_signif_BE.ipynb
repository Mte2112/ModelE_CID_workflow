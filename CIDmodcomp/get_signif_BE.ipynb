{
 "cells": [
  {
   "cell_type": "code",
   "execution_count": 1,
   "id": "fdb3f3b8-840f-4753-b294-56efdd8db370",
   "metadata": {},
   "outputs": [],
   "source": [
    "import xarray as xr\n",
    "import glob"
   ]
  },
  {
   "cell_type": "code",
   "execution_count": 6,
   "id": "bfd9a3bc-26f4-4ba9-98ab-d04bdddfb36c",
   "metadata": {},
   "outputs": [],
   "source": [
    "fd_1A = xr.open_dataset(\"processed_ens/fd_ensavg_modern_1A.nc\")\n",
    "t40C_1A = xr.open_dataset(\"processed_ens/t40C_ensavg_modern_1A.nc\")\n",
    "r1mm_1A = xr.open_dataset(\"processed_ens/r1mm_ensavg_modern_1A.nc\")\n",
    "r10mm_1A = xr.open_dataset(\"processed_ens/r10mm_ensavg_modern_1A.nc\")\n",
    "\n",
    "fd_1D = xr.open_dataset(\"processed_ens/fd_1D.nc\")\n",
    "t40C_1D = xr.open_dataset(\"processed_ens/t40C_1D.nc\")\n",
    "r1mm_1D = xr.open_dataset(\"processed_ens/r1mm_1D.nc\")\n",
    "r10mm_1D = xr.open_dataset(\"processed_ens/r10mm_1D.nc\")"
   ]
  },
  {
   "cell_type": "code",
   "execution_count": 19,
   "id": "9889712d-01ae-4742-bc28-44cda65615b3",
   "metadata": {},
   "outputs": [],
   "source": [
    "# B maps\n",
    "for var in [\"fd\", \"t40C\", \"r1mm\", \"r10mm\"]:\n",
    "    for signif_file, pval_file in zip(glob.glob(f\"statsignif_maps/{var}*significant*A.nc\"), glob.glob(f\"statsignif_maps/{var}*pvals*A.nc\")): \n",
    "        signif = xr.open_dataset(signif_file)\n",
    "        pvals = xr.open_dataset(pval_file)\n",
    "        signif = signif.assign({\"pval\": pvals.pval})\n",
    "        modelnum = signif_file.split(\"/\")[1].split(\"_\")[2].split(\"A\")[0]\n",
    "        var = signif_file.split(\"/\")[1].split(\"_\")[0]\n",
    "        signif[var] = signif[var] - locals()[f\"{var}_1A\"][var]\n",
    "        signif.to_netcdf(f\"statsignif_maps/{var}_statsignif_{modelnum}B.nc\")"
   ]
  },
  {
   "cell_type": "code",
   "execution_count": 20,
   "id": "6ebfa54f-d964-417f-8de0-f5c533365112",
   "metadata": {},
   "outputs": [],
   "source": [
    "# E maps\n",
    "for var in [\"fd\", \"t40C\", \"r1mm\", \"r10mm\"]:\n",
    "    for signif_file, pval_file in zip(glob.glob(f\"statsignif_maps/{var}*significant*D.nc\"), glob.glob(f\"statsignif_maps/{var}*pvals*D.nc\")): \n",
    "        signif = xr.open_dataset(signif_file)\n",
    "        pvals = xr.open_dataset(pval_file)\n",
    "        signif = signif.assign({\"pval\": pvals.pval})\n",
    "        modelnum = signif_file.split(\"/\")[1].split(\"_\")[2].split(\"D\")[0]\n",
    "        var = signif_file.split(\"/\")[1].split(\"_\")[0]\n",
    "        signif[var] = signif[var] - locals()[f\"{var}_1D\"][var]\n",
    "        signif.to_netcdf(f\"statsignif_maps/{var}_statsignif_{modelnum}E.nc\")"
   ]
  }
 ],
 "metadata": {
  "kernelspec": {
   "display_name": "Python 3 (ipykernel)",
   "language": "python",
   "name": "python3"
  },
  "language_info": {
   "codemirror_mode": {
    "name": "ipython",
    "version": 3
   },
   "file_extension": ".py",
   "mimetype": "text/x-python",
   "name": "python",
   "nbconvert_exporter": "python",
   "pygments_lexer": "ipython3",
   "version": "3.12.3"
  }
 },
 "nbformat": 4,
 "nbformat_minor": 5
}
